{
 "cells": [
  {
   "cell_type": "code",
   "execution_count": 9,
   "id": "410e3fdc-15e2-4ce5-bc38-36754bc101fc",
   "metadata": {},
   "outputs": [
    {
     "ename": "ModuleNotFoundError",
     "evalue": "No module named 'calmap'",
     "output_type": "error",
     "traceback": [
      "\u001b[1;31m---------------------------------------------------------------------------\u001b[0m",
      "\u001b[1;31mModuleNotFoundError\u001b[0m                       Traceback (most recent call last)",
      "Input \u001b[1;32mIn [9]\u001b[0m, in \u001b[0;36m<cell line: 7>\u001b[1;34m()\u001b[0m\n\u001b[0;32m      5\u001b[0m \u001b[38;5;28;01mimport\u001b[39;00m \u001b[38;5;21;01mmatplotlib\u001b[39;00m\u001b[38;5;21;01m.\u001b[39;00m\u001b[38;5;21;01mpyplot\u001b[39;00m \u001b[38;5;28;01mas\u001b[39;00m \u001b[38;5;21;01mplt\u001b[39;00m\n\u001b[0;32m      6\u001b[0m \u001b[38;5;28;01mimport\u001b[39;00m \u001b[38;5;21;01mseaborn\u001b[39;00m \u001b[38;5;28;01mas\u001b[39;00m \u001b[38;5;21;01msns\u001b[39;00m\n\u001b[1;32m----> 7\u001b[0m \u001b[38;5;28;01mimport\u001b[39;00m \u001b[38;5;21;01mcalmap\u001b[39;00m\n\u001b[0;32m      8\u001b[0m \u001b[38;5;28;01mfrom\u001b[39;00m \u001b[38;5;21;01mpandas_profiling\u001b[39;00m \u001b[38;5;28;01mimport\u001b[39;00m ProfileReport\n",
      "\u001b[1;31mModuleNotFoundError\u001b[0m: No module named 'calmap'"
     ]
    }
   ],
   "source": [
    "#import libraries needed\n",
    "\n",
    "import pandas as pd\n",
    "import numpy as np\n",
    "import matplotlib.pyplot as plt\n",
    "import seaborn as sns\n",
    "import calmap\n",
    "from pandas_profiling import ProfileReport"
   ]
  },
  {
   "cell_type": "code",
   "execution_count": 10,
   "id": "5ab7f273-65fc-4e94-ae2d-1dea5c3d449d",
   "metadata": {},
   "outputs": [],
   "source": [
    "#read dataset from Kaggle\n",
    "\n",
    "df = pd.read_csv('supermarket_sales (1).csv')"
   ]
  },
  {
   "cell_type": "code",
   "execution_count": 11,
   "id": "21885d3d-30e0-47ba-b57a-4c04c7fa961f",
   "metadata": {},
   "outputs": [
    {
     "data": {
      "text/html": [
       "<div>\n",
       "<style scoped>\n",
       "    .dataframe tbody tr th:only-of-type {\n",
       "        vertical-align: middle;\n",
       "    }\n",
       "\n",
       "    .dataframe tbody tr th {\n",
       "        vertical-align: top;\n",
       "    }\n",
       "\n",
       "    .dataframe thead th {\n",
       "        text-align: right;\n",
       "    }\n",
       "</style>\n",
       "<table border=\"1\" class=\"dataframe\">\n",
       "  <thead>\n",
       "    <tr style=\"text-align: right;\">\n",
       "      <th></th>\n",
       "      <th>149-71-6266</th>\n",
       "      <th>B</th>\n",
       "      <th>Mandalay</th>\n",
       "      <th>Member</th>\n",
       "      <th>Male</th>\n",
       "      <th>Sports and travel</th>\n",
       "      <th>78.07</th>\n",
       "      <th>9</th>\n",
       "      <th>35.1315</th>\n",
       "      <th>737.7615</th>\n",
       "      <th>1/28/19</th>\n",
       "      <th>12:43</th>\n",
       "      <th>Cash</th>\n",
       "      <th>702.63</th>\n",
       "      <th>4.761904762</th>\n",
       "      <th>35.1315.1</th>\n",
       "      <th>4.5</th>\n",
       "    </tr>\n",
       "  </thead>\n",
       "  <tbody>\n",
       "    <tr>\n",
       "      <th>0</th>\n",
       "      <td>640-49-2076</td>\n",
       "      <td>B</td>\n",
       "      <td>Mandalay</td>\n",
       "      <td>Normal</td>\n",
       "      <td>Male</td>\n",
       "      <td>Sports and travel</td>\n",
       "      <td>83.78</td>\n",
       "      <td>8.0</td>\n",
       "      <td>33.512</td>\n",
       "      <td>703.752</td>\n",
       "      <td>1/10/19</td>\n",
       "      <td>14:49</td>\n",
       "      <td>Cash</td>\n",
       "      <td>670.24</td>\n",
       "      <td>4.761905</td>\n",
       "      <td>33.512</td>\n",
       "      <td>5.1</td>\n",
       "    </tr>\n",
       "    <tr>\n",
       "      <th>1</th>\n",
       "      <td>595-11-5460</td>\n",
       "      <td>A</td>\n",
       "      <td>Yangon</td>\n",
       "      <td>NaN</td>\n",
       "      <td>Male</td>\n",
       "      <td>Health and beauty</td>\n",
       "      <td>96.58</td>\n",
       "      <td>2.0</td>\n",
       "      <td>9.658</td>\n",
       "      <td>202.818</td>\n",
       "      <td>3/15/19</td>\n",
       "      <td>10:12</td>\n",
       "      <td>Credit card</td>\n",
       "      <td>193.16</td>\n",
       "      <td>4.761905</td>\n",
       "      <td>9.658</td>\n",
       "      <td>5.1</td>\n",
       "    </tr>\n",
       "    <tr>\n",
       "      <th>2</th>\n",
       "      <td>183-56-6882</td>\n",
       "      <td>C</td>\n",
       "      <td>Naypyitaw</td>\n",
       "      <td>NaN</td>\n",
       "      <td>Female</td>\n",
       "      <td>Food and beverages</td>\n",
       "      <td>99.42</td>\n",
       "      <td>4.0</td>\n",
       "      <td>19.884</td>\n",
       "      <td>417.564</td>\n",
       "      <td>2/6/19</td>\n",
       "      <td>10:42</td>\n",
       "      <td>Ewallet</td>\n",
       "      <td>397.68</td>\n",
       "      <td>4.761905</td>\n",
       "      <td>19.884</td>\n",
       "      <td>7.5</td>\n",
       "    </tr>\n",
       "    <tr>\n",
       "      <th>3</th>\n",
       "      <td>232-16-2483</td>\n",
       "      <td>C</td>\n",
       "      <td>Naypyitaw</td>\n",
       "      <td>NaN</td>\n",
       "      <td>Female</td>\n",
       "      <td>Sports and travel</td>\n",
       "      <td>68.12</td>\n",
       "      <td>1.0</td>\n",
       "      <td>3.406</td>\n",
       "      <td>71.526</td>\n",
       "      <td>1/7/19</td>\n",
       "      <td>12:28</td>\n",
       "      <td>Ewallet</td>\n",
       "      <td>68.12</td>\n",
       "      <td>4.761905</td>\n",
       "      <td>3.406</td>\n",
       "      <td>6.8</td>\n",
       "    </tr>\n",
       "    <tr>\n",
       "      <th>4</th>\n",
       "      <td>129-29-8530</td>\n",
       "      <td>A</td>\n",
       "      <td>Yangon</td>\n",
       "      <td>NaN</td>\n",
       "      <td>Male</td>\n",
       "      <td>Sports and travel</td>\n",
       "      <td>62.62</td>\n",
       "      <td>5.0</td>\n",
       "      <td>15.655</td>\n",
       "      <td>328.755</td>\n",
       "      <td>3/10/19</td>\n",
       "      <td>19:15</td>\n",
       "      <td>Ewallet</td>\n",
       "      <td>313.10</td>\n",
       "      <td>4.761905</td>\n",
       "      <td>15.655</td>\n",
       "      <td>7.0</td>\n",
       "    </tr>\n",
       "  </tbody>\n",
       "</table>\n",
       "</div>"
      ],
      "text/plain": [
       "   149-71-6266  B   Mandalay  Member    Male   Sports and travel  78.07    9  \\\n",
       "0  640-49-2076  B   Mandalay  Normal    Male   Sports and travel  83.78  8.0   \n",
       "1  595-11-5460  A     Yangon     NaN    Male   Health and beauty  96.58  2.0   \n",
       "2  183-56-6882  C  Naypyitaw     NaN  Female  Food and beverages  99.42  4.0   \n",
       "3  232-16-2483  C  Naypyitaw     NaN  Female   Sports and travel  68.12  1.0   \n",
       "4  129-29-8530  A     Yangon     NaN    Male   Sports and travel  62.62  5.0   \n",
       "\n",
       "   35.1315  737.7615  1/28/19  12:43         Cash  702.63  4.761904762  \\\n",
       "0   33.512   703.752  1/10/19  14:49         Cash  670.24     4.761905   \n",
       "1    9.658   202.818  3/15/19  10:12  Credit card  193.16     4.761905   \n",
       "2   19.884   417.564   2/6/19  10:42      Ewallet  397.68     4.761905   \n",
       "3    3.406    71.526   1/7/19  12:28      Ewallet   68.12     4.761905   \n",
       "4   15.655   328.755  3/10/19  19:15      Ewallet  313.10     4.761905   \n",
       "\n",
       "   35.1315.1  4.5  \n",
       "0     33.512  5.1  \n",
       "1      9.658  5.1  \n",
       "2     19.884  7.5  \n",
       "3      3.406  6.8  \n",
       "4     15.655  7.0  "
      ]
     },
     "execution_count": 11,
     "metadata": {},
     "output_type": "execute_result"
    }
   ],
   "source": [
    "df.head()"
   ]
  },
  {
   "cell_type": "code",
   "execution_count": 12,
   "id": "de0b023d-1627-4710-9167-1404274d6920",
   "metadata": {},
   "outputs": [
    {
     "data": {
      "text/plain": [
       "Index(['149-71-6266', 'B', 'Mandalay', 'Member', 'Male', 'Sports and travel',\n",
       "       '78.07', '9', '35.1315', '737.7615', '1/28/19', '12:43', 'Cash',\n",
       "       '702.63', '4.761904762', '35.1315.1', '4.5'],\n",
       "      dtype='object')"
      ]
     },
     "execution_count": 12,
     "metadata": {},
     "output_type": "execute_result"
    }
   ],
   "source": [
    "df.columns"
   ]
  },
  {
   "cell_type": "code",
   "execution_count": 14,
   "id": "1f065406-2607-4e44-9335-0eefc2515d31",
   "metadata": {},
   "outputs": [
    {
     "data": {
      "text/html": [
       "<div>\n",
       "<style scoped>\n",
       "    .dataframe tbody tr th:only-of-type {\n",
       "        vertical-align: middle;\n",
       "    }\n",
       "\n",
       "    .dataframe tbody tr th {\n",
       "        vertical-align: top;\n",
       "    }\n",
       "\n",
       "    .dataframe thead th {\n",
       "        text-align: right;\n",
       "    }\n",
       "</style>\n",
       "<table border=\"1\" class=\"dataframe\">\n",
       "  <thead>\n",
       "    <tr style=\"text-align: right;\">\n",
       "      <th></th>\n",
       "      <th>78.07</th>\n",
       "      <th>9</th>\n",
       "      <th>35.1315</th>\n",
       "      <th>737.7615</th>\n",
       "      <th>702.63</th>\n",
       "      <th>4.761904762</th>\n",
       "      <th>35.1315.1</th>\n",
       "      <th>4.5</th>\n",
       "    </tr>\n",
       "  </thead>\n",
       "  <tbody>\n",
       "    <tr>\n",
       "      <th>count</th>\n",
       "      <td>964.000000</td>\n",
       "      <td>951.000000</td>\n",
       "      <td>971.000000</td>\n",
       "      <td>971.000000</td>\n",
       "      <td>971.000000</td>\n",
       "      <td>9.710000e+02</td>\n",
       "      <td>971.000000</td>\n",
       "      <td>971.000000</td>\n",
       "    </tr>\n",
       "    <tr>\n",
       "      <th>mean</th>\n",
       "      <td>55.622832</td>\n",
       "      <td>5.501577</td>\n",
       "      <td>15.346091</td>\n",
       "      <td>322.267914</td>\n",
       "      <td>306.921823</td>\n",
       "      <td>4.761905e+00</td>\n",
       "      <td>15.346091</td>\n",
       "      <td>6.984655</td>\n",
       "    </tr>\n",
       "    <tr>\n",
       "      <th>std</th>\n",
       "      <td>26.568059</td>\n",
       "      <td>2.936118</td>\n",
       "      <td>11.748890</td>\n",
       "      <td>246.726690</td>\n",
       "      <td>234.977800</td>\n",
       "      <td>6.131589e-14</td>\n",
       "      <td>11.748890</td>\n",
       "      <td>1.714769</td>\n",
       "    </tr>\n",
       "    <tr>\n",
       "      <th>min</th>\n",
       "      <td>10.080000</td>\n",
       "      <td>1.000000</td>\n",
       "      <td>0.508500</td>\n",
       "      <td>10.678500</td>\n",
       "      <td>10.170000</td>\n",
       "      <td>4.761905e+00</td>\n",
       "      <td>0.508500</td>\n",
       "      <td>4.000000</td>\n",
       "    </tr>\n",
       "    <tr>\n",
       "      <th>25%</th>\n",
       "      <td>32.580000</td>\n",
       "      <td>3.000000</td>\n",
       "      <td>5.833250</td>\n",
       "      <td>122.498250</td>\n",
       "      <td>116.665000</td>\n",
       "      <td>4.761905e+00</td>\n",
       "      <td>5.833250</td>\n",
       "      <td>5.500000</td>\n",
       "    </tr>\n",
       "    <tr>\n",
       "      <th>50%</th>\n",
       "      <td>55.230000</td>\n",
       "      <td>5.000000</td>\n",
       "      <td>12.060000</td>\n",
       "      <td>253.260000</td>\n",
       "      <td>241.200000</td>\n",
       "      <td>4.761905e+00</td>\n",
       "      <td>12.060000</td>\n",
       "      <td>7.000000</td>\n",
       "    </tr>\n",
       "    <tr>\n",
       "      <th>75%</th>\n",
       "      <td>77.935000</td>\n",
       "      <td>8.000000</td>\n",
       "      <td>22.429000</td>\n",
       "      <td>471.009000</td>\n",
       "      <td>448.580000</td>\n",
       "      <td>4.761905e+00</td>\n",
       "      <td>22.429000</td>\n",
       "      <td>8.500000</td>\n",
       "    </tr>\n",
       "    <tr>\n",
       "      <th>max</th>\n",
       "      <td>99.960000</td>\n",
       "      <td>10.000000</td>\n",
       "      <td>49.650000</td>\n",
       "      <td>1042.650000</td>\n",
       "      <td>993.000000</td>\n",
       "      <td>4.761905e+00</td>\n",
       "      <td>49.650000</td>\n",
       "      <td>10.000000</td>\n",
       "    </tr>\n",
       "  </tbody>\n",
       "</table>\n",
       "</div>"
      ],
      "text/plain": [
       "            78.07           9     35.1315     737.7615      702.63  \\\n",
       "count  964.000000  951.000000  971.000000   971.000000  971.000000   \n",
       "mean    55.622832    5.501577   15.346091   322.267914  306.921823   \n",
       "std     26.568059    2.936118   11.748890   246.726690  234.977800   \n",
       "min     10.080000    1.000000    0.508500    10.678500   10.170000   \n",
       "25%     32.580000    3.000000    5.833250   122.498250  116.665000   \n",
       "50%     55.230000    5.000000   12.060000   253.260000  241.200000   \n",
       "75%     77.935000    8.000000   22.429000   471.009000  448.580000   \n",
       "max     99.960000   10.000000   49.650000  1042.650000  993.000000   \n",
       "\n",
       "        4.761904762   35.1315.1         4.5  \n",
       "count  9.710000e+02  971.000000  971.000000  \n",
       "mean   4.761905e+00   15.346091    6.984655  \n",
       "std    6.131589e-14   11.748890    1.714769  \n",
       "min    4.761905e+00    0.508500    4.000000  \n",
       "25%    4.761905e+00    5.833250    5.500000  \n",
       "50%    4.761905e+00   12.060000    7.000000  \n",
       "75%    4.761905e+00   22.429000    8.500000  \n",
       "max    4.761905e+00   49.650000   10.000000  "
      ]
     },
     "execution_count": 14,
     "metadata": {},
     "output_type": "execute_result"
    }
   ],
   "source": [
    "df.describe()"
   ]
  },
  {
   "cell_type": "code",
   "execution_count": null,
   "id": "9d3b8e5b-87ac-4e64-84ee-845f0956e8dc",
   "metadata": {},
   "outputs": [],
   "source": [
    "df['Date']= pd.to_datetime(df['Date'])"
   ]
  },
  {
   "cell_type": "code",
   "execution_count": null,
   "id": "8d6e245e-de68-42ff-9f86-c76d8531772b",
   "metadata": {},
   "outputs": [],
   "source": [
    "df.set_index('Date', inplace=True)"
   ]
  },
  {
   "cell_type": "code",
   "execution_count": 15,
   "id": "f95e4f5a-a41a-4b71-ad0b-19bf3e85bd97",
   "metadata": {},
   "outputs": [
    {
     "ename": "KeyError",
     "evalue": "'Rating'",
     "output_type": "error",
     "traceback": [
      "\u001b[1;31m---------------------------------------------------------------------------\u001b[0m",
      "\u001b[1;31mKeyError\u001b[0m                                  Traceback (most recent call last)",
      "File \u001b[1;32m~\\anaconda3\\lib\\site-packages\\pandas\\core\\indexes\\base.py:3621\u001b[0m, in \u001b[0;36mIndex.get_loc\u001b[1;34m(self, key, method, tolerance)\u001b[0m\n\u001b[0;32m   3620\u001b[0m \u001b[38;5;28;01mtry\u001b[39;00m:\n\u001b[1;32m-> 3621\u001b[0m     \u001b[38;5;28;01mreturn\u001b[39;00m \u001b[38;5;28;43mself\u001b[39;49m\u001b[38;5;241;43m.\u001b[39;49m\u001b[43m_engine\u001b[49m\u001b[38;5;241;43m.\u001b[39;49m\u001b[43mget_loc\u001b[49m\u001b[43m(\u001b[49m\u001b[43mcasted_key\u001b[49m\u001b[43m)\u001b[49m\n\u001b[0;32m   3622\u001b[0m \u001b[38;5;28;01mexcept\u001b[39;00m \u001b[38;5;167;01mKeyError\u001b[39;00m \u001b[38;5;28;01mas\u001b[39;00m err:\n",
      "File \u001b[1;32m~\\anaconda3\\lib\\site-packages\\pandas\\_libs\\index.pyx:136\u001b[0m, in \u001b[0;36mpandas._libs.index.IndexEngine.get_loc\u001b[1;34m()\u001b[0m\n",
      "File \u001b[1;32m~\\anaconda3\\lib\\site-packages\\pandas\\_libs\\index.pyx:163\u001b[0m, in \u001b[0;36mpandas._libs.index.IndexEngine.get_loc\u001b[1;34m()\u001b[0m\n",
      "File \u001b[1;32mpandas\\_libs\\hashtable_class_helper.pxi:5198\u001b[0m, in \u001b[0;36mpandas._libs.hashtable.PyObjectHashTable.get_item\u001b[1;34m()\u001b[0m\n",
      "File \u001b[1;32mpandas\\_libs\\hashtable_class_helper.pxi:5206\u001b[0m, in \u001b[0;36mpandas._libs.hashtable.PyObjectHashTable.get_item\u001b[1;34m()\u001b[0m\n",
      "\u001b[1;31mKeyError\u001b[0m: 'Rating'",
      "\nThe above exception was the direct cause of the following exception:\n",
      "\u001b[1;31mKeyError\u001b[0m                                  Traceback (most recent call last)",
      "Input \u001b[1;32mIn [15]\u001b[0m, in \u001b[0;36m<cell line: 3>\u001b[1;34m()\u001b[0m\n\u001b[0;32m      1\u001b[0m \u001b[38;5;66;03m#Looking at distribution of customer ratings\u001b[39;00m\n\u001b[1;32m----> 3\u001b[0m sns\u001b[38;5;241m.\u001b[39mdistplot(\u001b[43mdf\u001b[49m\u001b[43m[\u001b[49m\u001b[38;5;124;43m'\u001b[39;49m\u001b[38;5;124;43mRating\u001b[39;49m\u001b[38;5;124;43m'\u001b[39;49m\u001b[43m]\u001b[49m)\n\u001b[0;32m      4\u001b[0m plt\u001b[38;5;241m.\u001b[39maxvline(x\u001b[38;5;241m=\u001b[39mnp\u001b[38;5;241m.\u001b[39mmean(df[\u001b[38;5;124m'\u001b[39m\u001b[38;5;124mRating\u001b[39m\u001b[38;5;124m'\u001b[39m]), c\u001b[38;5;241m=\u001b[39m\u001b[38;5;124m'\u001b[39m\u001b[38;5;124mred\u001b[39m\u001b[38;5;124m'\u001b[39m, ls\u001b[38;5;241m=\u001b[39m\u001b[38;5;124m'\u001b[39m\u001b[38;5;124m--\u001b[39m\u001b[38;5;124m'\u001b[39m, label\u001b[38;5;241m=\u001b[39m\u001b[38;5;124m'\u001b[39m\u001b[38;5;124mmean\u001b[39m\u001b[38;5;124m'\u001b[39m)\n\u001b[0;32m      5\u001b[0m plt\u001b[38;5;241m.\u001b[39maxvline(x\u001b[38;5;241m=\u001b[39mnp\u001b[38;5;241m.\u001b[39mpercentile(df[\u001b[38;5;124m'\u001b[39m\u001b[38;5;124mRating\u001b[39m\u001b[38;5;124m'\u001b[39m], \u001b[38;5;241m25\u001b[39m), c\u001b[38;5;241m=\u001b[39m\u001b[38;5;124m'\u001b[39m\u001b[38;5;124mgreen\u001b[39m\u001b[38;5;124m'\u001b[39m, ls\u001b[38;5;241m=\u001b[39m\u001b[38;5;124m'\u001b[39m\u001b[38;5;124m--\u001b[39m\u001b[38;5;124m'\u001b[39m, label\u001b[38;5;241m=\u001b[39m\u001b[38;5;124m'\u001b[39m\u001b[38;5;124m25-75th percentile\u001b[39m\u001b[38;5;124m'\u001b[39m)\n",
      "File \u001b[1;32m~\\anaconda3\\lib\\site-packages\\pandas\\core\\frame.py:3505\u001b[0m, in \u001b[0;36mDataFrame.__getitem__\u001b[1;34m(self, key)\u001b[0m\n\u001b[0;32m   3503\u001b[0m \u001b[38;5;28;01mif\u001b[39;00m \u001b[38;5;28mself\u001b[39m\u001b[38;5;241m.\u001b[39mcolumns\u001b[38;5;241m.\u001b[39mnlevels \u001b[38;5;241m>\u001b[39m \u001b[38;5;241m1\u001b[39m:\n\u001b[0;32m   3504\u001b[0m     \u001b[38;5;28;01mreturn\u001b[39;00m \u001b[38;5;28mself\u001b[39m\u001b[38;5;241m.\u001b[39m_getitem_multilevel(key)\n\u001b[1;32m-> 3505\u001b[0m indexer \u001b[38;5;241m=\u001b[39m \u001b[38;5;28;43mself\u001b[39;49m\u001b[38;5;241;43m.\u001b[39;49m\u001b[43mcolumns\u001b[49m\u001b[38;5;241;43m.\u001b[39;49m\u001b[43mget_loc\u001b[49m\u001b[43m(\u001b[49m\u001b[43mkey\u001b[49m\u001b[43m)\u001b[49m\n\u001b[0;32m   3506\u001b[0m \u001b[38;5;28;01mif\u001b[39;00m is_integer(indexer):\n\u001b[0;32m   3507\u001b[0m     indexer \u001b[38;5;241m=\u001b[39m [indexer]\n",
      "File \u001b[1;32m~\\anaconda3\\lib\\site-packages\\pandas\\core\\indexes\\base.py:3623\u001b[0m, in \u001b[0;36mIndex.get_loc\u001b[1;34m(self, key, method, tolerance)\u001b[0m\n\u001b[0;32m   3621\u001b[0m     \u001b[38;5;28;01mreturn\u001b[39;00m \u001b[38;5;28mself\u001b[39m\u001b[38;5;241m.\u001b[39m_engine\u001b[38;5;241m.\u001b[39mget_loc(casted_key)\n\u001b[0;32m   3622\u001b[0m \u001b[38;5;28;01mexcept\u001b[39;00m \u001b[38;5;167;01mKeyError\u001b[39;00m \u001b[38;5;28;01mas\u001b[39;00m err:\n\u001b[1;32m-> 3623\u001b[0m     \u001b[38;5;28;01mraise\u001b[39;00m \u001b[38;5;167;01mKeyError\u001b[39;00m(key) \u001b[38;5;28;01mfrom\u001b[39;00m \u001b[38;5;21;01merr\u001b[39;00m\n\u001b[0;32m   3624\u001b[0m \u001b[38;5;28;01mexcept\u001b[39;00m \u001b[38;5;167;01mTypeError\u001b[39;00m:\n\u001b[0;32m   3625\u001b[0m     \u001b[38;5;66;03m# If we have a listlike key, _check_indexing_error will raise\u001b[39;00m\n\u001b[0;32m   3626\u001b[0m     \u001b[38;5;66;03m#  InvalidIndexError. Otherwise we fall through and re-raise\u001b[39;00m\n\u001b[0;32m   3627\u001b[0m     \u001b[38;5;66;03m#  the TypeError.\u001b[39;00m\n\u001b[0;32m   3628\u001b[0m     \u001b[38;5;28mself\u001b[39m\u001b[38;5;241m.\u001b[39m_check_indexing_error(key)\n",
      "\u001b[1;31mKeyError\u001b[0m: 'Rating'"
     ]
    }
   ],
   "source": [
    "#Looking at distribution of customer ratings\n",
    "\n",
    "sns.distplot(df['Rating'])\n",
    "plt.axvline(x=np.mean(df['Rating']), c='red', ls='--', label='mean')\n",
    "plt.axvline(x=np.percentile(df['Rating'], 25), c='green', ls='--', label='25-75th percentile')\n",
    "plt.axvline(x=np.percentile(df['Rating'], 75), c='green', ls='--')\n",
    "plt.legend()"
   ]
  },
  {
   "cell_type": "code",
   "execution_count": null,
   "id": "5b9301c1-3969-42d5-a883-3d8c6a180684",
   "metadata": {},
   "outputs": [],
   "source": [
    "#Check out sale numbers between branches\n",
    "sns.countplot(df['Branch'])"
   ]
  },
  {
   "cell_type": "code",
   "execution_count": null,
   "id": "308c89ce-3be2-4b78-9dcc-680a85a46ff1",
   "metadata": {},
   "outputs": [],
   "source": [
    "#See the exact numbers\n",
    "df['Branch'].value_counts()"
   ]
  },
  {
   "cell_type": "code",
   "execution_count": null,
   "id": "9953e2be-752f-4e27-9660-bf32d46fcc73",
   "metadata": {},
   "outputs": [],
   "source": [
    "#Check for relationship between customer rating and gross income\n",
    "sns.regplot(df['Rating'],df['gross income'])"
   ]
  },
  {
   "cell_type": "code",
   "execution_count": null,
   "id": "74d4bdf5-c2e5-438e-80ba-dbeb22df7544",
   "metadata": {},
   "outputs": [],
   "source": [
    "#Look for outliers between branch's gross income\n",
    "sns.boxplot(x=df['Branch'], y=df['gross income'])"
   ]
  },
  {
   "cell_type": "code",
   "execution_count": null,
   "id": "26edba36-f195-400e-8618-5c661c1ead40",
   "metadata": {},
   "outputs": [],
   "source": [
    "#Check gross income based on days\n",
    "sns.boxplot(x=df['Branch'], y=df['gross income'])"
   ]
  },
  {
   "cell_type": "code",
   "execution_count": null,
   "id": "0d1747aa-7b58-4b6b-88fb-c8cf0072f53d",
   "metadata": {},
   "outputs": [],
   "source": [
    "sns.pairplot(df)"
   ]
  },
  {
   "cell_type": "code",
   "execution_count": null,
   "id": "851e8a85-da79-450f-a230-7b9dea6feff8",
   "metadata": {},
   "outputs": [],
   "source": [
    "#Check how many duplicated rows there are\n",
    "df.duplicated().sum()"
   ]
  },
  {
   "cell_type": "code",
   "execution_count": null,
   "id": "58c48792-3ae0-41ff-959b-8aad2b0b21c6",
   "metadata": {},
   "outputs": [],
   "source": [
    "#Drop duplicated rows\n",
    "df.duplicated().sum()"
   ]
  },
  {
   "cell_type": "code",
   "execution_count": null,
   "id": "0cfa2e34-8940-4b2d-ba9c-7cc86ece2441",
   "metadata": {},
   "outputs": [],
   "source": [
    "#Check for missing values\n",
    "df.isna().sum()"
   ]
  },
  {
   "cell_type": "code",
   "execution_count": null,
   "id": "1e2e4e01-5021-4aa8-a9cc-8d5a3de3b0c2",
   "metadata": {},
   "outputs": [],
   "source": [
    "#Look at heatmap of missing values\n",
    "sns.heatmap(df.isnull(), cbar=False)"
   ]
  },
  {
   "cell_type": "code",
   "execution_count": null,
   "id": "183534ae-bae9-4c68-8e37-6dcc1399575a",
   "metadata": {},
   "outputs": [],
   "source": [
    "#Fill missing values with the mean from that column\n",
    "df.fillna(df.mean(), inplace=True)"
   ]
  },
  {
   "cell_type": "code",
   "execution_count": null,
   "id": "a246135a-a62f-4afe-99a0-c05e76844903",
   "metadata": {},
   "outputs": [],
   "source": [
    "#Fill the categorical missing values with the mode\n",
    "df.fillna(df.mode().iloc[0], inplace=True)"
   ]
  },
  {
   "cell_type": "code",
   "execution_count": null,
   "id": "c73fbd24-6144-482a-ac9f-0cbe985a2b93",
   "metadata": {},
   "outputs": [],
   "source": []
  }
 ],
 "metadata": {
  "kernelspec": {
   "display_name": "Python 3 (ipykernel)",
   "language": "python",
   "name": "python3"
  },
  "language_info": {
   "codemirror_mode": {
    "name": "ipython",
    "version": 3
   },
   "file_extension": ".py",
   "mimetype": "text/x-python",
   "name": "python",
   "nbconvert_exporter": "python",
   "pygments_lexer": "ipython3",
   "version": "3.9.12"
  }
 },
 "nbformat": 4,
 "nbformat_minor": 5
}
