{
 "cells": [
  {
   "cell_type": "code",
   "execution_count": null,
   "id": "deb9a0b1-5e32-4074-b37a-4c6e16898f86",
   "metadata": {},
   "outputs": [],
   "source": [
    "#Won't work now b/c I deleted the AI Platform stuff so I wouldn't get charged\n",
    "\n",
    "!gsutil -m cp gs://kams-bucket/model/cats_vs_dogs.h5 ."
   ]
  },
  {
   "cell_type": "code",
   "execution_count": null,
   "id": "ead5884e-9057-41fa-8a57-3f547d31d012",
   "metadata": {},
   "outputs": [],
   "source": [
    "import tensorflow as tf\n",
    "\n",
    "model =tf.keras.models.load_model('cats_vs_dogs.h5')\n",
    "model.summary()"
   ]
  },
  {
   "cell_type": "code",
   "execution_count": null,
   "id": "4b9cda35-f975-4d92-b8b4-c12e7e610c3d",
   "metadata": {},
   "outputs": [],
   "source": [
    "%matplotlib inline\n",
    "import matplotlib.pyplot as plt\n",
    "import numpy as np"
   ]
  },
  {
   "cell_type": "code",
   "execution_count": null,
   "id": "b4101727-b7bf-4bc9-a513-81f9c4d00cd6",
   "metadata": {},
   "outputs": [],
   "source": [
    "classes = ['Cat', 'Dog']\n",
    "\n",
    "def display_pred(image_path):\n",
    "    plt.imshow(plt.imread(image_path))\n",
    "    \n",
    "    x = tf.keras.preprocessing.image.load_img(image_path, target_size=(128, 128))\n",
    "    \n",
    "    x = tf.keras.preprocessing.image.img_to_array(x)\n",
    "    x = tf.keras.applications.mobilenet_v2.preprocess_input(x)\n",
    "    x = np.expand_dims(x, axis=0)\n",
    "    \n",
    "    pred = model.predict(x)[0]\n",
    "    \n",
    "    #Number is close to 1 if a dog - number is close to 0 if cat\n",
    "    plt.title('Pred: {}'.format(classes[int(pred > 0.5)]))\n",
    "    plt.show()\n",
    "    \n",
    "    print(pred)"
   ]
  },
  {
   "cell_type": "code",
   "execution_count": null,
   "id": "1b2ccfb5-7398-4aaa-af10-7d472d46b4c6",
   "metadata": {},
   "outputs": [],
   "source": [
    "images = ['images/cat1.jpg', 'images/cat2.jpg', 'images/dog1.jpg']\n",
    "\n",
    "display_pred(images[2])"
   ]
  },
  {
   "cell_type": "code",
   "execution_count": null,
   "id": "8b7e62f3-a9d6-4f31-bcac-87c2dfaae291",
   "metadata": {},
   "outputs": [],
   "source": [
    "%%writefile prediction.py\n",
    "\n",
    "import tensorflow as tf\n",
    "import numpy as np\n",
    "import os\n",
    "import base64\n",
    "\n",
    "MODEL_NAME = 'cats_vs_dogs.h5'\n",
    "CLASS_NAMES = ['Cat', 'Dog']\n",
    "\n",
    "class CatsVsDogsPrediction:\n",
    "    def __init__(self, model):\n",
    "        self.model = model\n",
    "    \n",
    "    def _preprocess(self, instances, size=128):\n",
    "        num_examples = len(instances)\n",
    "        x_batch = np.zeros((num_examples, size, size, 3))\n",
    "        for i in range(num_examples):\n",
    "            #coding string into numpy array\n",
    "            x = np.array(bytearray(base64.b64decode(instances[i])))\n",
    "            x = np.reshape(x, (size, size, 3))\n",
    "            x = tf.keras.applications.mobilenet_v2.preprocess_input(x)\n",
    "            x_batch[i] = x\n",
    "        return x_batch\n",
    "    \n",
    "    def _postprocess(self, preds):\n",
    "        results = []\n",
    "        for i, pred in enumerate(preds):\n",
    "            p = np.squeeze(pred)\n",
    "            results.append({\n",
    "                'index': i, \n",
    "                'class_name': CLASS_NAMES[int(p > 0.5)],\n",
    "                'raw_value': '{:.4f}'.format(p)\n",
    "            })\n",
    "        return results\n",
    "        \n",
    "    def predict(self, instances, **kwargs):\n",
    "        if 'size' in kwargs:\n",
    "            size = int(kwargs.get('size'))\n",
    "        else:\n",
    "            size = 128\n",
    "        # Preprocess\n",
    "        x_batch = self._preprocess(instances, size)\n",
    "        # Predict\n",
    "        preds = self._model.predict(x_batch)\n",
    "        # Post process\n",
    "        results = self._postprocess(preds)\n",
    "        return results\n",
    "    \n",
    "    @classmethod\n",
    "    def from_path(cls, model_dir):\n",
    "        model = tf.keras.models.load_model(os.path.join(model_dir, MODEL_NAME))\n",
    "        return cls(model)"
   ]
  },
  {
   "cell_type": "code",
   "execution_count": null,
   "id": "f1359bae-df31-4490-aec6-33c78eb9a17e",
   "metadata": {},
   "outputs": [],
   "source": [
    "%%writefile setup.py\n",
    "from setuptools import setup\n",
    "\n",
    "setup(\n",
    "    name='cats_vs_dogs', \n",
    "    version='0.0.1',\n",
    "    include_package_data=False,\n",
    "    scripts=['prediction.py']\n",
    ")"
   ]
  },
  {
   "cell_type": "code",
   "execution_count": null,
   "id": "2e76d6f3-395b-45b1-adb3-0de29b1b72e0",
   "metadata": {},
   "outputs": [],
   "source": [
    "!python3 setup.py sdist --formats=gztar"
   ]
  },
  {
   "cell_type": "code",
   "execution_count": null,
   "id": "2e470a20-b26c-423e-ad18-7d86e857440c",
   "metadata": {},
   "outputs": [],
   "source": [
    "!gsutil cp dist/cats_vs_dogs-0.0.1.tar.gz gs://kams-bucket/dist/"
   ]
  },
  {
   "cell_type": "code",
   "execution_count": null,
   "id": "cdf3e1dc-9778-4b1e-b7b1-1b04f50124d9",
   "metadata": {},
   "outputs": [],
   "source": [
    "#had trouble importing my own model --> in AI Platform, when adding a model, had trouble with creating the version\n",
    "from googleapiclient import discovery\n",
    "from PIL import Image\n",
    "import os\n",
    "import base64"
   ]
  },
  {
   "cell_type": "code",
   "execution_count": null,
   "id": "41395d44-8bf8-446d-a709-3cf9cfb298ef",
   "metadata": {},
   "outputs": [],
   "source": [
    "service = discovery.build('ml', 'vl', cache_discovery=False)"
   ]
  },
  {
   "cell_type": "code",
   "execution_count": null,
   "id": "507a34e7-3b82-489f-ada2-6012bf73edfc",
   "metadata": {},
   "outputs": [],
   "source": [
    "def get_pred_from_model(body, project_name, model_name):\n",
    "    service.projects().predict(\n",
    "        name='projects/{}/models/{}'.format(project_name, model_name),\n",
    "        body=body\n",
    "    )"
   ]
  },
  {
   "cell_type": "code",
   "execution_count": null,
   "id": "ee6d9c48-a290-4dcb-a61a-3ac071c7821d",
   "metadata": {},
   "outputs": [],
   "source": [
    "project_name = 'rhyme-269417' #mine would be different\n",
    "model_name = 'cats_vs_dogs'"
   ]
  },
  {
   "cell_type": "code",
   "execution_count": null,
   "id": "126dd1f0-3752-486c-8293-8413d0d3cc85",
   "metadata": {},
   "outputs": [],
   "source": [
    "instances = []\n",
    "size = 128\n",
    "\n",
    "for image in images:\n",
    "    img = Image.open(image)\n",
    "    img = img.resize((size, size), Image.ANTIALIAS)\n",
    "    \n",
    "    instances.append(\n",
    "        base64.b64encode(img.tobytes()).decode()\n",
    "    )\n",
    "    img.close()"
   ]
  },
  {
   "cell_type": "code",
   "execution_count": null,
   "id": "5397da15-d091-4ec5-9795-49e5d213f6c9",
   "metadata": {},
   "outputs": [],
   "source": [
    "body = {\n",
    "    'instances': instances,\n",
    "    'size': size\n",
    "}"
   ]
  },
  {
   "cell_type": "code",
   "execution_count": null,
   "id": "832a6fab-4069-4070-a32c-55d9b2bcb9b7",
   "metadata": {},
   "outputs": [],
   "source": [
    "response = get_pred_from_model(body, project_name, model_name)"
   ]
  },
  {
   "cell_type": "code",
   "execution_count": null,
   "id": "710501a4-3f5c-4e31-bd55-99c2688ca09c",
   "metadata": {},
   "outputs": [],
   "source": []
  }
 ],
 "metadata": {
  "kernelspec": {
   "display_name": "Python 3 (ipykernel)",
   "language": "python",
   "name": "python3"
  },
  "language_info": {
   "codemirror_mode": {
    "name": "ipython",
    "version": 3
   },
   "file_extension": ".py",
   "mimetype": "text/x-python",
   "name": "python",
   "nbconvert_exporter": "python",
   "pygments_lexer": "ipython3",
   "version": "3.9.12"
  }
 },
 "nbformat": 4,
 "nbformat_minor": 5
}
